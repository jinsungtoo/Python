{
 "cells": [
  {
   "cell_type": "code",
   "execution_count": 1,
   "id": "7cc01bb8",
   "metadata": {},
   "outputs": [
    {
     "name": "stdout",
     "output_type": "stream",
     "text": [
      "30\n",
      "-10\n",
      "200\n",
      "0.5\n"
     ]
    }
   ],
   "source": [
    "print(10 + 20)\n",
    "print(10 - 20)\n",
    "print(10 * 20)\n",
    "print(10 / 20)"
   ]
  },
  {
   "cell_type": "code",
   "execution_count": 2,
   "id": "f8c2a741",
   "metadata": {},
   "outputs": [
    {
     "name": "stdout",
     "output_type": "stream",
     "text": [
      "100\n",
      "1000\n",
      "10000\n"
     ]
    }
   ],
   "source": [
    "print(10**2) #제곱\n",
    "print(10**3) #3제곱\n",
    "print(10**4)"
   ]
  },
  {
   "cell_type": "code",
   "execution_count": 3,
   "id": "3ad13f57",
   "metadata": {},
   "outputs": [
    {
     "name": "stdout",
     "output_type": "stream",
     "text": [
      "6\n",
      "4\n"
     ]
    }
   ],
   "source": [
    "print(40//6) # 몫\n",
    "print(40%6) #나머지"
   ]
  },
  {
   "cell_type": "code",
   "execution_count": 6,
   "id": "71fa3c07",
   "metadata": {},
   "outputs": [
    {
     "name": "stdout",
     "output_type": "stream",
     "text": [
      "0\n",
      "1\n",
      "1\n",
      "1\n",
      "False\n",
      "True\n",
      "True\n",
      "True\n"
     ]
    }
   ],
   "source": [
    "print(0 or 0)\n",
    "print(0 or 1)\n",
    "print(1 or 0)\n",
    "print(1 or 1)\n",
    "print(False or False)\n",
    "print(True or False)\n",
    "print(False or True)\n",
    "print(True or True)"
   ]
  },
  {
   "cell_type": "code",
   "execution_count": 7,
   "id": "d6e26d53",
   "metadata": {},
   "outputs": [
    {
     "name": "stdout",
     "output_type": "stream",
     "text": [
      "False\n"
     ]
    }
   ],
   "source": [
    "print(not True)"
   ]
  },
  {
   "cell_type": "code",
   "execution_count": 9,
   "id": "bb1a930e",
   "metadata": {},
   "outputs": [
    {
     "name": "stdout",
     "output_type": "stream",
     "text": [
      "True\n",
      "True\n",
      "True\n",
      "False\n",
      "True\n",
      "False\n"
     ]
    }
   ],
   "source": [
    "print(10 == 10)\n",
    "print(10 >= 10)\n",
    "print(10 <= 10)\n",
    "print(10 < 5)\n",
    "print(10 > 5)\n",
    "print(10 != 10)"
   ]
  },
  {
   "cell_type": "code",
   "execution_count": 14,
   "id": "f021219b",
   "metadata": {},
   "outputs": [],
   "source": [
    "# in 연산자\n",
    "a_list=['a',2,'hello',3]"
   ]
  },
  {
   "cell_type": "code",
   "execution_count": 15,
   "id": "5b3b4fb0",
   "metadata": {},
   "outputs": [
    {
     "name": "stdout",
     "output_type": "stream",
     "text": [
      "True\n",
      "False\n",
      "True\n"
     ]
    }
   ],
   "source": [
    "print('a' in a_list) # a가 있나요?\n",
    "print(1 in a_list)\n",
    "print('hello' in a_list)"
   ]
  },
  {
   "cell_type": "code",
   "execution_count": null,
   "id": "4a353b0a",
   "metadata": {},
   "outputs": [],
   "source": []
  }
 ],
 "metadata": {
  "kernelspec": {
   "display_name": "Python 3 (ipykernel)",
   "language": "python",
   "name": "python3"
  },
  "language_info": {
   "codemirror_mode": {
    "name": "ipython",
    "version": 3
   },
   "file_extension": ".py",
   "mimetype": "text/x-python",
   "name": "python",
   "nbconvert_exporter": "python",
   "pygments_lexer": "ipython3",
   "version": "3.9.12"
  }
 },
 "nbformat": 4,
 "nbformat_minor": 5
}
